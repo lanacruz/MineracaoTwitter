{
  "nbformat": 4,
  "nbformat_minor": 0,
  "metadata": {
    "colab": {
      "name": "desafioQuest.ipynb",
      "provenance": [],
      "collapsed_sections": [],
      "authorship_tag": "ABX9TyMJ+75/gojf/DJALjh9ff4K"
    },
    "kernelspec": {
      "name": "python3",
      "display_name": "Python 3"
    }
  },
  "cells": [
    {
      "cell_type": "code",
      "metadata": {
        "id": "gUVAzr3g8muE",
        "colab_type": "code",
        "colab": {}
      },
      "source": [
        "#importando as bibliotecas\n",
        "import tweepy as tw\n",
        "import pandas as pd\n",
        "import json"
      ],
      "execution_count": 44,
      "outputs": []
    },
    {
      "cell_type": "code",
      "metadata": {
        "id": "1wG9yhoU8vxn",
        "colab_type": "code",
        "colab": {}
      },
      "source": [
        "#chaves da conta dev\n",
        "chave_consumidor = ''\n",
        "segredo_consumidor = ''\n",
        "token_acesso = ''\n",
        "token_acesso_segredo = ''"
      ],
      "execution_count": 45,
      "outputs": []
    },
    {
      "cell_type": "code",
      "metadata": {
        "id": "NcTboz9C8whK",
        "colab_type": "code",
        "colab": {}
      },
      "source": [
        "#autenticação\n",
        "autenticacao = tw.OAuthHandler(chave_consumidor, segredo_consumidor)\n",
        "autenticacao.set_access_token(token_acesso, token_acesso_segredo)\n",
        "api = tw.API(autenticacao)"
      ],
      "execution_count": 46,
      "outputs": []
    },
    {
      "cell_type": "code",
      "metadata": {
        "id": "YrhGu2QY8ybn",
        "colab_type": "code",
        "colab": {}
      },
      "source": [
        "#o que vamos buscar?\n",
        "keyword = (\"Home Office\" or \"trabalho em casa\" or \"homeoffice\" or \"trabalhoremoto\" or \"trabalhoemcasa\") +\"-filter:retweets\"\n",
        "#criação do Cursos\n",
        "resultados = tw.Cursor(api.search,tweet_mode ='extended',\n",
        "                  q = keyword).items(3)"
      ],
      "execution_count": 47,
      "outputs": []
    },
    {
      "cell_type": "code",
      "metadata": {
        "id": "Ub7vARuF-tCg",
        "colab_type": "code",
        "colab": {}
      },
      "source": [
        "#Imprimir usuario e tW\n",
        "\n",
        "for tweet in resultados:\n",
        "    print(f'Usuário: {tweet.user.screen_name} - Tweet: {tweet.full_text}')"
      ],
      "execution_count": null,
      "outputs": []
    },
    {
      "cell_type": "code",
      "metadata": {
        "id": "ChGbep_lF9sz",
        "colab_type": "code",
        "colab": {}
      },
      "source": [
        "#Analise de polaridade \n",
        "#importando bibliotecas\n",
        "\n",
        "from textblob import TextBlob as tb\n",
        "import numpy as np"
      ],
      "execution_count": 49,
      "outputs": []
    },
    {
      "cell_type": "code",
      "metadata": {
        "id": "cjLUHBukGCCq",
        "colab_type": "code",
        "colab": {}
      },
      "source": [
        "#variaveis irá armazenar as polaridades \n",
        "analysis=None"
      ],
      "execution_count": 50,
      "outputs": []
    },
    {
      "cell_type": "code",
      "metadata": {
        "id": "9CZltGpRGGFn",
        "colab_type": "code",
        "colab": {}
      },
      "source": [
        "#lista varia para armazenar escores\n",
        "tweets_score=[]"
      ],
      "execution_count": 52,
      "outputs": []
    },
    {
      "cell_type": "code",
      "metadata": {
        "id": "SzXp1NJBGJnV",
        "colab_type": "code",
        "colab": {}
      },
      "source": [
        "for tweet in resultados:\n",
        "    print('**', tweet.full_text)\n",
        "    analysis=tb(tweet.full_text)\n",
        "    polarity=analysis.sentiment.polarity\n",
        "    tweets_score.append(polarity)"
      ],
      "execution_count": 57,
      "outputs": []
    },
    {
      "cell_type": "code",
      "metadata": {
        "id": "uUydqz3oG2SS",
        "colab_type": "code",
        "colab": {}
      },
      "source": [
        "#imprimir vetor de polaridade\n",
        "print('vetor de polaridade: ', tweets_score)"
      ],
      "execution_count": null,
      "outputs": []
    },
    {
      "cell_type": "code",
      "metadata": {
        "id": "9VLoyK6yG23Y",
        "colab_type": "code",
        "colab": {}
      },
      "source": [
        "#Media de sentimento\n",
        "print ('Media de Sentimento: '+ str(np.mean(tweets_score)))"
      ],
      "execution_count": null,
      "outputs": []
    },
    {
      "cell_type": "code",
      "metadata": {
        "id": "m_WM59eyGTO9",
        "colab_type": "code",
        "colab": {}
      },
      "source": [
        "#traduzir o TW para EN porque a função .sentiment.polarity não reconhece outra lingua\n",
        "polarities=[]\n",
        "\n",
        "for tweet in resultados: #tem que estar igual aos outros for's\n",
        "    analysis=tb(tweet.full_text)\n",
        "    if analysis.detect_language() != 'en': #vefirica se está em ingles\n",
        "        traducao = tb(str(analysis.translate(to='en'))) #um erro foi pq escrevi srt no lugar de str\n",
        "        print ('** text traduzido %s: ' %traducao)\n",
        "        polarity = traducao.sentiment.polarity\n",
        "    else:\n",
        "        polarity=analysis.sentiment.polarity\n",
        "    polarities.append(polarity)"
      ],
      "execution_count": 56,
      "outputs": []
    },
    {
      "cell_type": "code",
      "metadata": {
        "id": "OMLfNeSOGWl_",
        "colab_type": "code",
        "colab": {}
      },
      "source": [
        "#imprimir vetor de polaridade\n",
        "print('vetor de polaridade: ', polarities)"
      ],
      "execution_count": null,
      "outputs": []
    },
    {
      "cell_type": "code",
      "metadata": {
        "id": "tPfsRZplGZco",
        "colab_type": "code",
        "colab": {}
      },
      "source": [
        "#Media de sentimento\n",
        "print ('Media de Sentimento: '+ str(np.mean(polarities)))"
      ],
      "execution_count": null,
      "outputs": []
    }
  ]
}